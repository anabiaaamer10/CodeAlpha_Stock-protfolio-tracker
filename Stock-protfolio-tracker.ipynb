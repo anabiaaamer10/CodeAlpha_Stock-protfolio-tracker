{
  "nbformat": 4,
  "nbformat_minor": 0,
  "metadata": {
    "colab": {
      "provenance": []
    },
    "kernelspec": {
      "name": "python3",
      "display_name": "Python 3"
    },
    "language_info": {
      "name": "python"
    }
  },
  "cells": [
    {
      "cell_type": "code",
      "source": [
        "# Hardcoded stock prices\n",
        "stock_prices = {\"AAPL\": 180, \"TSLA\": 250, \"GOOG\": 140, \"MSFT\": 300}\n",
        "\n",
        "portfolio = {}\n",
        "total_investment = 0\n",
        "\n",
        "print(\"Available stocks:\", stock_prices)\n",
        "\n",
        "while True:\n",
        "    stock = input(\"Enter stock symbol (or 'done' to finish): \").upper()\n",
        "    if stock == \"DONE\":\n",
        "        break\n",
        "    if stock in stock_prices:\n",
        "        qty = int(input(f\"Enter quantity of {stock}: \"))\n",
        "        portfolio[stock] = portfolio.get(stock, 0) + qty\n",
        "        total_investment += stock_prices[stock] * qty\n",
        "    else:\n",
        "        print(\"Stock not available!\")\n",
        "\n",
        "print(\"\\nYour Portfolio:\", portfolio)\n",
        "print(\"Total Investment Value: RS\", total_investment)\n",
        "\n",
        "# Save to file (formatted nicely)\n",
        "with open(\"portfolio.txt\", \"w\") as f:\n",
        "    f.write(\" Portfolio Summary\\n\")\n",
        "    f.write(\"-----------------------------\\n\")\n",
        "    for stock, qty in portfolio.items():\n",
        "        investment = stock_prices[stock] * qty\n",
        "        f.write(f\"{stock}: {qty} shares → RS{investment}\\n\")\n",
        "    f.write(\"-----------------------------\\n\")\n",
        "    f.write(f\" Total Investment: RS{total_investment}\\n\")\n",
        "\n",
        "print(\"Portfolio saved to portfolio.txt \")\n"
      ],
      "metadata": {
        "colab": {
          "base_uri": "https://localhost:8080/"
        },
        "id": "qMWETHSIjv18",
        "outputId": "6070cd15-c74d-4e5a-f6f0-8bd5a6104377"
      },
      "execution_count": null,
      "outputs": [
        {
          "output_type": "stream",
          "name": "stdout",
          "text": [
            "Available stocks: {'AAPL': 180, 'TSLA': 250, 'GOOG': 140, 'MSFT': 300}\n"
          ]
        }
      ]
    }
  ]
}